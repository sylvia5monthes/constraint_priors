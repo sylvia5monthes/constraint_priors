{
 "cells": [
  {
   "cell_type": "code",
   "execution_count": 1,
   "id": "aa9947ca",
   "metadata": {},
   "outputs": [],
   "source": [
    "# Ignore all warnings\n",
    "import warnings\n",
    "warnings.filterwarnings(\"ignore\")\n",
    "\n",
    "import matplotlib.pyplot as plt\n",
    "import pandas as pd\n",
    "import torch\n",
    "from xopt.vocs import VOCS\n",
    "\n",
    "my_vocs = VOCS(\n",
    "    variables = {\"x\":[0,1]},\n",
    "    objectives = {\"y\":\"MAXIMIZE\"},\n",
    "    constraints = {\"c\": [\"LESS_THAN\", 0]}\n",
    ")"
   ]
  },
  {
   "cell_type": "code",
   "execution_count": 2,
   "id": "b2d490b1",
   "metadata": {},
   "outputs": [
    {
     "name": "stdout",
     "output_type": "stream",
     "text": [
      "tensor(0., dtype=torch.float64) tensor(1., dtype=torch.float64)\n"
     ]
    }
   ],
   "source": [
    "print(*torch.tensor(my_vocs.bounds.flatten()))"
   ]
  },
  {
   "cell_type": "code",
   "execution_count": 3,
   "id": "50e758b9",
   "metadata": {},
   "outputs": [
    {
     "data": {
      "text/plain": [
       "<Axes: >"
      ]
     },
     "execution_count": 3,
     "metadata": {},
     "output_type": "execute_result"
    },
    {
     "data": {
      "image/png": "[encoded data removed]",
      "text/plain": [
       "<Figure size 640x480 with 1 Axes>"
      ]
     },
     "metadata": {},
     "output_type": "display_data"
    }
   ],
   "source": [
    "# define test functions\n",
    "def y(x):\n",
    "    return torch.sin(2*3.14*x)\n",
    "\n",
    "def c(x):\n",
    "    return 5.0*torch.cos(2*3.14*x + 0.25)\n",
    "\n",
    "test_x = torch.linspace(*torch.tensor(my_vocs.bounds.flatten()), 100)\n",
    "\n",
    "# define training data to pass to the generator\n",
    "train_x = torch.tensor((0.2,0.5, 0.6))\n",
    "train_y = y(train_x)\n",
    "train_c = c(train_x)\n",
    "\n",
    "training_data = pd.DataFrame(\n",
    "    {\"x\": train_x.numpy(), \"y\": train_y.numpy(), \"c\": train_c}\n",
    ")\n",
    "\n",
    "def plot_ground_truth():\n",
    "    fig,ax = plt.subplots()\n",
    "    ax.plot(test_x, y(test_x),'--C0')\n",
    "    ax.plot(test_x, c(test_x),'--C1')\n",
    "    ax.plot(train_x, train_y,'oC0')\n",
    "    ax.plot(train_x, train_c,'oC1')\n",
    "\n",
    "    return ax\n",
    "plot_ground_truth()"
   ]
  },
  {
   "cell_type": "code",
   "execution_count": 4,
   "id": "15ce53b0",
   "metadata": {},
   "outputs": [],
   "source": [
    "from xopt.generators.bayesian.models.standard import create_constraint_models\n",
    "from gpytorch import ExactMarginalLogLikelihood\n",
    "from gpytorch.kernels import PeriodicKernel, ScaleKernel\n",
    "from botorch.models.transforms import Normalize, Standardize\n",
    "from botorch import fit_gpytorch_mll\n",
    "from botorch.models import ModelListGP, SingleTaskGP\n",
    "from gpytorch.likelihoods import GaussianLikelihood\n",
    "from gpytorch.priors import GammaPrior\n",
    "\n",
    "prior_value = 0\n",
    "\n",
    "def create_periodic_model(data, vocs, tkwargs):\n",
    "    input_data, objective_data, constraint_data = vocs.extract_data(data)\n",
    "    train_X = torch.tensor(input_data.to_numpy(), **tkwargs)\n",
    "\n",
    "    input_transform = Normalize(\n",
    "        vocs.n_variables, bounds=torch.tensor(vocs.bounds, **tkwargs)\n",
    "    )\n",
    "\n",
    "    objective_models = []\n",
    "\n",
    "    # create models for objective(s)\n",
    "    for name in objective_data.keys():\n",
    "        train_Y = torch.tensor(objective_data[name].to_numpy(), **tkwargs).unsqueeze(-1)\n",
    "\n",
    "        kernel = ScaleKernel(PeriodicKernel())\n",
    "        likelihood = GaussianLikelihood(noise_prior=GammaPrior(1.0, 10.0))\n",
    "\n",
    "        objective_models.append(\n",
    "            SingleTaskGP(\n",
    "                train_X,\n",
    "                train_Y,\n",
    "                input_transform=input_transform,\n",
    "                outcome_transform=Standardize(1),\n",
    "                likelihood=likelihood,\n",
    "                covar_module=kernel,\n",
    "            )\n",
    "        )\n",
    "        mll = ExactMarginalLogLikelihood(objective_models[-1].likelihood, objective_models[-1])\n",
    "        fit_gpytorch_mll(mll)\n",
    "\n",
    "    # create models for constraint(s)\n",
    "    constraint_models = create_constraint_models(\n",
    "        input_data,\n",
    "        constraint_data,\n",
    "        input_transform,\n",
    "        tkwargs,\n",
    "        use_low_noise_prior=True\n",
    "    )\n",
    "    \n",
    "    constraint_models[-1].mean_module.constant.data = torch.tensor(prior_value, **tkwargs)\n",
    "    constraint_models[-1].mean_module.constant.requires_grad = False\n",
    "\n",
    "    return ModelListGP(*objective_models, *constraint_models)"
   ]
  },
  {
   "cell_type": "code",
   "execution_count": 5,
   "id": "c434e861",
   "metadata": {},
   "outputs": [],
   "source": [
    "from xopt.generators.bayesian.expected_improvement import ExpectedImprovementGenerator\n",
    "from xopt.generators.bayesian.options import ModelOptions\n",
    "from xopt.generators.bayesian.expected_improvement import BayesianOptions\n",
    "from xopt import Xopt, Evaluator"
   ]
  },
  {
   "cell_type": "code",
   "execution_count": 6,
   "id": "ed7cde47",
   "metadata": {},
   "outputs": [],
   "source": [
    "import numpy as np\n",
    "def evaluate(inputs):\n",
    "    x = inputs[\"x\"]\n",
    "    objective = np.sin(2*3.14*x)\n",
    "    constraint = 5.0*np.cos(2*3.14*x + 0.25)\n",
    "    outputs = {\n",
    "        \"y\": objective,\n",
    "        \"c\": constraint\n",
    "    }\n",
    "    return outputs\n",
    "\n",
    "evaluator = Evaluator(function=evaluate)"
   ]
  },
  {
   "cell_type": "code",
   "execution_count": 12,
   "id": "3974ab53",
   "metadata": {},
   "outputs": [
    {
     "name": "stdout",
     "output_type": "stream",
     "text": [
      "step 0\n",
      "step 1\n",
      "step 2\n",
      "step 3\n",
      "step 4\n",
      "step 5\n",
      "step 6\n",
      "step 7\n",
      "step 8\n",
      "step 9\n",
      "[[0.031640376885996746]]\n",
      "[[0.1973966127417989]]\n"
     ]
    },
    {
     "data": {
      "image/png": "[encoded data removed]",
      "text/plain": [
       "<Figure size 600x600 with 4 Axes>"
      ]
     },
     "metadata": {},
     "output_type": "display_data"
    }
   ],
   "source": [
    "fig,ax = plt.subplots(2,2, sharex=\"all\")\n",
    "fig.set_size_inches(6,6)\n",
    "\n",
    "# plan: \n",
    "# use Xopt(generator, evaluator, vocs) and put in training_data for x\n",
    "# use step() for certain number of iter \n",
    "# train model on generator.data \n",
    "# plot the observations using X.data -> x coor onto aquisition function, (x, y) onto objective\n",
    "# overall, plot prior mean value vs frequency of constrain violations using X.vocs.feasibility_data(X.data)\n",
    "for x in range(0, 1):\n",
    "    prior_value = 1\n",
    "    # note the creation of options beforehand\n",
    "    model_options = ModelOptions(function=create_periodic_model)\n",
    "    generator_options = BayesianOptions(model=model_options)\n",
    "    generator = ExpectedImprovementGenerator(my_vocs, options=generator_options)\n",
    "    \n",
    "    X = Xopt(generator=generator, evaluator=evaluator, vocs=my_vocs)\n",
    "    #X.evaluate_data(pd.DataFrame({\"x\": train_x.numpy()}))\n",
    "    \n",
    "    for i in range(10):\n",
    "        print(f\"step {i}\")\n",
    "        X.step()\n",
    "    \n",
    "    history = pd.concat([X.data, X.vocs.feasibility_data(X.data)], axis=1, ignore_index=False)\n",
    "    print(history[[\"x\"]][~history[\"feasible\"]].values.tolist())\n",
    "    print(history[[\"y\"]][~history[\"feasible\"]].values.tolist())\n",
    "    # view custom model from data (trained on training_data only)\n",
    "    # generator.add_data(training_data)\n",
    "    model = generator.train_model(generator.data)\n",
    "\n",
    "    with torch.no_grad():\n",
    "        post = model.posterior(test_x.reshape(-1,1,1).double())\n",
    "\n",
    "        n_samples = torch.Size([512])\n",
    "        for i in range(len(post.posteriors)):\n",
    "            mean = post.posteriors[i].rsample(n_samples).quantile(0.5,dim=0)\n",
    "            l = post.posteriors[i].rsample(n_samples).quantile(0.1,dim=0)\n",
    "            u = post.posteriors[i].rsample(n_samples).quantile(0.9,dim=0)\n",
    "            ax[x][0].plot(test_x, mean.flatten(),f\"C{i}\", label=generator.vocs.output_names[i])\n",
    "            ax[x][0].fill_between(test_x, l.flatten(), u.flatten(), alpha=0.5)\n",
    "            ax[x][0].plot(*history[[\"x\",\"y\"]][history[\"feasible\"]].to_numpy().T, \".C1\")\n",
    "            ax[x][0].plot(*history[[\"x\",\"y\"]][~history[\"feasible\"]].to_numpy().T, \".C2\")\n",
    "        ax[x][0].legend()\n",
    "\n",
    "        acq = generator.get_acquisition(model)(test_x.reshape(-1,1,1).double())\n",
    "\n",
    "        ax[x][1].plot(test_x, acq, label='Acquisition Function')\n",
    "        ax[x][1].legend()\n"
   ]
  },
  {
   "cell_type": "code",
   "execution_count": 13,
   "id": "c8b0e0f1",
   "metadata": {},
   "outputs": [
    {
     "name": "stdout",
     "output_type": "stream",
     "text": [
      "           x         y         c  xopt_runtime  xopt_error\n",
      "1   0.370207  0.728884 -4.218412      0.000009       False\n",
      "2   0.516873 -0.104180 -4.689328      0.000003       False\n",
      "3   0.031640  0.197397  4.505056      0.000003       False\n",
      "4   0.368411  0.736559 -4.187870      0.000009       False\n",
      "5   0.344939  0.827912 -3.741254      0.000008       False\n",
      "6   0.308019  0.934635 -2.878925      0.000008       False\n",
      "7   0.258628  0.998575 -1.493763      0.000010       False\n",
      "8   0.265776  0.995175 -1.706383      0.000009       False\n",
      "9   0.250483  0.999997 -1.247860      0.000008       False\n",
      "10  0.250531  0.999997 -1.249298      0.000008       False\n",
      "11  0.255311  0.999470 -1.394063      0.000007       False\n",
      "12  0.250330  0.999999 -1.243189      0.000008       False\n"
     ]
    }
   ],
   "source": [
    "print(generator.data)"
   ]
  },
  {
   "cell_type": "code",
   "execution_count": 14,
   "id": "cd0f1b26",
   "metadata": {},
   "outputs": [
    {
     "name": "stdout",
     "output_type": "stream",
     "text": [
      "    feasible_c  feasible\n",
      "1         True      True\n",
      "2         True      True\n",
      "3        False     False\n",
      "4         True      True\n",
      "5         True      True\n",
      "6         True      True\n",
      "7         True      True\n",
      "8         True      True\n",
      "9         True      True\n",
      "10        True      True\n",
      "11        True      True\n",
      "12        True      True\n"
     ]
    }
   ],
   "source": [
    "print(my_vocs.feasibility_data(X.data))"
   ]
  },
  {
   "cell_type": "code",
   "execution_count": null,
   "id": "e00a9cbb",
   "metadata": {},
   "outputs": [],
   "source": [
    "#%history -g"
   ]
  },
  {
   "cell_type": "code",
   "execution_count": null,
   "id": "2dc66de0",
   "metadata": {},
   "outputs": [],
   "source": []
  }
 ],
 "metadata": {
  "kernelspec": {
   "display_name": "Python 3 (ipykernel)",
   "language": "python",
   "name": "python3"
  },
  "language_info": {
   "codemirror_mode": {
    "name": "ipython",
    "version": 3
   },
   "file_extension": ".py",
   "mimetype": "text/x-python",
   "name": "python",
   "nbconvert_exporter": "python",
   "pygments_lexer": "ipython3",
   "version": "3.9.16"
  }
 },
 "nbformat": 4,
 "nbformat_minor": 5
}
